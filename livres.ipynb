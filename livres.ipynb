{
 "cells": [
  {
   "cell_type": "code",
   "execution_count": 13,
   "metadata": {},
   "outputs": [],
   "source": [
    "# required libraries.\n",
    "\n",
    "import json\n",
    "import pandas\n",
    "import pathlib\n",
    "import pydash\n",
    "\n",
    "# provide a dictionary for primary source data statements.\n",
    "\n",
    "statements = dict()"
   ]
  },
  {
   "cell_type": "code",
   "execution_count": 14,
   "metadata": {},
   "outputs": [
    {
     "name": "stdout",
     "output_type": "stream",
     "text": [
      "{\n",
      "  \"this_edition\": {\n",
      "    \"item\": \"Drive Your Plow Over the Bones of the Dead\",\n",
      "    \"label\": \"Drive Your Plow Over the Bones of the Dead\",\n",
      "    \"instance of\": \"version, edition, or translation\",\n",
      "    \"title\": \"Drive Your Plow Over the Bones of the Dead\"\n",
      "  }\n",
      "}\n"
     ]
    }
   ],
   "source": [
    "'''\n",
    "Drive Your Plow Over the Bones of the Dead\n",
    "'''\n",
    "\n",
    "# note that the title is printed in all-caps on the cover and title page.  \n",
    "# this is assumed to be a design choice, as it is presented in title-caps on the back cover.\n",
    "\n",
    "pydash.set_(statements, 'this_edition.item', 'Drive Your Plow Over the Bones of the Dead')\n",
    "pydash.set_(statements, 'this_edition.label', 'Drive Your Plow Over the Bones of the Dead')\n",
    "pydash.set_(statements, 'this_edition.instance of', 'version, edition, or translation')\n",
    "pydash.set_(statements, 'this_edition.title', 'Drive Your Plow Over the Bones of the Dead')\n",
    "\n",
    "print(json.dumps(statements, indent=2, ensure_ascii=False))"
   ]
  },
  {
   "cell_type": "code",
   "execution_count": 15,
   "metadata": {},
   "outputs": [
    {
     "name": "stdout",
     "output_type": "stream",
     "text": [
      "{\n",
      "  \"this_edition\": {\n",
      "    \"item\": \"Drive Your Plow Over the Bones of the Dead\",\n",
      "    \"label\": \"Drive Your Plow Over the Bones of the Dead\",\n",
      "    \"instance of\": \"version, edition, or translation\",\n",
      "    \"title\": \"Drive Your Plow Over the Bones of the Dead\"\n",
      "  },\n",
      "  \"work\": {\n",
      "    \"author\": \"Olga Tokarczuk\"\n",
      "  }\n",
      "}\n"
     ]
    }
   ],
   "source": [
    "'''\n",
    "Olga Tokarczuk\n",
    "'''\n",
    "\n",
    "# similarly, author is also printed in several places in all-caps.\n",
    "# model specifies placing author information at work level.\n",
    "\n",
    "pydash.set_(statements, 'work.author', 'Olga Tokarczuk')\n",
    "\n",
    "print(json.dumps(statements, indent=2, ensure_ascii=False))"
   ]
  },
  {
   "cell_type": "code",
   "execution_count": 16,
   "metadata": {},
   "outputs": [
    {
     "name": "stdout",
     "output_type": "stream",
     "text": [
      "{\n",
      "  \"this_edition\": {\n",
      "    \"item\": \"Drive Your Plow Over the Bones of the Dead\",\n",
      "    \"label\": \"Drive Your Plow Over the Bones of the Dead\",\n",
      "    \"instance of\": \"version, edition, or translation\",\n",
      "    \"title\": \"Drive Your Plow Over the Bones of the Dead\",\n",
      "    \"translator\": \"Antonia Lloyd-Jones\"\n",
      "  },\n",
      "  \"work\": {\n",
      "    \"author\": \"Olga Tokarczuk\"\n",
      "  },\n",
      "  \"first_edition\": {\n",
      "    \"language\": \"Polish\"\n",
      "  }\n",
      "}\n"
     ]
    }
   ],
   "source": [
    "'''\n",
    "Translated from the Polish by Antonia Lloyd-Jones\n",
    "'''\n",
    "\n",
    "# can be inferred that the original edition was in Polish?\n",
    "\n",
    "pydash.set_(statements, 'this_edition.translator', 'Antonia Lloyd-Jones')\n",
    "pydash.set_(statements, 'first_edition.language', 'Polish')\n",
    "\n",
    "print(json.dumps(statements, indent=2, ensure_ascii=False))"
   ]
  },
  {
   "cell_type": "code",
   "execution_count": 17,
   "metadata": {},
   "outputs": [
    {
     "name": "stdout",
     "output_type": "stream",
     "text": [
      "{\n",
      "  \"this_edition\": {\n",
      "    \"item\": \"Drive Your Plow Over the Bones of the Dead\",\n",
      "    \"label\": \"Drive Your Plow Over the Bones of the Dead\",\n",
      "    \"instance of\": \"version, edition, or translation\",\n",
      "    \"title\": \"Drive Your Plow Over the Bones of the Dead\",\n",
      "    \"translator\": \"Antonia Lloyd-Jones\",\n",
      "    \"language\": \"English\"\n",
      "  },\n",
      "  \"work\": {\n",
      "    \"author\": \"Olga Tokarczuk\"\n",
      "  },\n",
      "  \"first_edition\": {\n",
      "    \"language\": \"Polish\"\n",
      "  }\n",
      "}\n"
     ]
    }
   ],
   "source": [
    "# this edition is in English.\n",
    "\n",
    "pydash.set_(statements, 'this_edition.language', 'English')\n",
    "\n",
    "print(json.dumps(statements, indent=2, ensure_ascii=False))"
   ]
  },
  {
   "cell_type": "code",
   "execution_count": 18,
   "metadata": {},
   "outputs": [
    {
     "name": "stdout",
     "output_type": "stream",
     "text": [
      "{\n",
      "  \"this_edition\": {\n",
      "    \"item\": \"Drive Your Plow Over the Bones of the Dead\",\n",
      "    \"label\": \"Drive Your Plow Over the Bones of the Dead\",\n",
      "    \"instance of\": \"version, edition, or translation\",\n",
      "    \"title\": \"Drive Your Plow Over the Bones of the Dead\",\n",
      "    \"translator\": \"Antonia Lloyd-Jones\",\n",
      "    \"language\": \"English\",\n",
      "    \"publisher\": \"Text Publishing Company\",\n",
      "    \"publication date\": \"2018\"\n",
      "  },\n",
      "  \"work\": {\n",
      "    \"author\": \"Olga Tokarczuk\"\n",
      "  },\n",
      "  \"first_edition\": {\n",
      "    \"language\": \"Polish\"\n",
      "  }\n",
      "}\n"
     ]
    }
   ],
   "source": [
    "'''\n",
    "This edition published by the Text Publishing Company in 2018\n",
    "'''\n",
    "\n",
    "pydash.set_(statements, 'this_edition.publisher', 'Text Publishing Company')\n",
    "pydash.set_(statements, 'this_edition.publication date', '2018')\n",
    "\n",
    "print(json.dumps(statements, indent=2, ensure_ascii=False))"
   ]
  },
  {
   "cell_type": "code",
   "execution_count": 19,
   "metadata": {},
   "outputs": [
    {
     "name": "stdout",
     "output_type": "stream",
     "text": [
      "{\n",
      "  \"this_edition\": {\n",
      "    \"item\": \"Drive Your Plow Over the Bones of the Dead\",\n",
      "    \"label\": \"Drive Your Plow Over the Bones of the Dead\",\n",
      "    \"instance of\": \"version, edition, or translation\",\n",
      "    \"title\": \"Drive Your Plow Over the Bones of the Dead\",\n",
      "    \"translator\": \"Antonia Lloyd-Jones\",\n",
      "    \"language\": \"English\",\n",
      "    \"publisher\": \"Text Publishing Company\",\n",
      "    \"publication date\": \"2018\",\n",
      "    \"number of pages\": \"247\"\n",
      "  },\n",
      "  \"work\": {\n",
      "    \"author\": \"Olga Tokarczuk\"\n",
      "  },\n",
      "  \"first_edition\": {\n",
      "    \"language\": \"Polish\"\n",
      "  }\n",
      "}\n"
     ]
    }
   ],
   "source": [
    "# the last numbered page is 247.\n",
    "\n",
    "pydash.set_(statements, 'this_edition.number of pages', '247')\n",
    "\n",
    "print(json.dumps(statements, indent=2, ensure_ascii=False))"
   ]
  },
  {
   "cell_type": "code",
   "execution_count": 20,
   "metadata": {},
   "outputs": [
    {
     "name": "stdout",
     "output_type": "stream",
     "text": [
      "{\n",
      "  \"this_edition\": {\n",
      "    \"item\": \"Drive Your Plow Over the Bones of the Dead\",\n",
      "    \"label\": \"Drive Your Plow Over the Bones of the Dead\",\n",
      "    \"instance of\": \"version, edition, or translation\",\n",
      "    \"title\": \"Drive Your Plow Over the Bones of the Dead\",\n",
      "    \"translator\": \"Antonia Lloyd-Jones\",\n",
      "    \"language\": \"English\",\n",
      "    \"publisher\": \"Text Publishing Company\",\n",
      "    \"publication date\": \"2018\",\n",
      "    \"number of pages\": \"247\",\n",
      "    \"ISBN-13\": \"9781925773088\"\n",
      "  },\n",
      "  \"work\": {\n",
      "    \"author\": \"Olga Tokarczuk\"\n",
      "  },\n",
      "  \"first_edition\": {\n",
      "    \"language\": \"Polish\"\n",
      "  }\n",
      "}\n"
     ]
    }
   ],
   "source": [
    "# isbn-13 for this edition is 9781925773088.\n",
    "\n",
    "pydash.set_(statements, 'this_edition.ISBN-13', '9781925773088')\n",
    "\n",
    "print(json.dumps(statements, indent=2, ensure_ascii=False))"
   ]
  },
  {
   "cell_type": "code",
   "execution_count": 21,
   "metadata": {},
   "outputs": [
    {
     "name": "stdout",
     "output_type": "stream",
     "text": [
      "{\n",
      "  \"this_edition\": {\n",
      "    \"item\": \"Drive Your Plow Over the Bones of the Dead\",\n",
      "    \"label\": \"Drive Your Plow Over the Bones of the Dead\",\n",
      "    \"instance of\": \"version, edition, or translation\",\n",
      "    \"title\": \"Drive Your Plow Over the Bones of the Dead\",\n",
      "    \"translator\": \"Antonia Lloyd-Jones\",\n",
      "    \"language\": \"English\",\n",
      "    \"publisher\": \"Text Publishing Company\",\n",
      "    \"publication date\": \"2018\",\n",
      "    \"number of pages\": \"247\",\n",
      "    \"ISBN-13\": \"9781925773088\"\n",
      "  },\n",
      "  \"work\": {\n",
      "    \"author\": \"Olga Tokarczuk\"\n",
      "  },\n",
      "  \"first_edition\": {\n",
      "    \"language\": \"Polish\",\n",
      "    \"item\": \"Prowadź swój pług przez kości umarłych\",\n",
      "    \"label\": \"Prowadź swój pług przez kości umarłych\",\n",
      "    \"instance of\": \"version, edition, or translation\",\n",
      "    \"title\": \"Prowadź swój pług przez kości umarłych\",\n",
      "    \"publisher\": \"Wydawnictwo Literackie\",\n",
      "    \"publication date\": \"2009\"\n",
      "  }\n",
      "}\n"
     ]
    }
   ],
   "source": [
    "'''\n",
    "First published as Prowadź swój pług przez kości umarłych by Wydawnictwo Literackie in 2009\n",
    "'''\n",
    "\n",
    "pydash.set_(statements, 'first_edition.item', 'Prowadź swój pług przez kości umarłych')\n",
    "pydash.set_(statements, 'first_edition.label', 'Prowadź swój pług przez kości umarłych')\n",
    "pydash.set_(statements, 'first_edition.instance of', 'version, edition, or translation')\n",
    "pydash.set_(statements, 'first_edition.title', 'Prowadź swój pług przez kości umarłych')\n",
    "pydash.set_(statements, 'first_edition.publisher', 'Wydawnictwo Literackie')\n",
    "pydash.set_(statements, 'first_edition.publication date', '2009')\n",
    "\n",
    "print(json.dumps(statements, indent=2, ensure_ascii=False))"
   ]
  },
  {
   "cell_type": "code",
   "execution_count": 22,
   "metadata": {},
   "outputs": [
    {
     "name": "stdout",
     "output_type": "stream",
     "text": [
      "{\n",
      "  \"this_edition\": {\n",
      "    \"item\": \"Drive Your Plow Over the Bones of the Dead\",\n",
      "    \"label\": \"Drive Your Plow Over the Bones of the Dead\",\n",
      "    \"instance of\": \"version, edition, or translation\",\n",
      "    \"title\": \"Drive Your Plow Over the Bones of the Dead\",\n",
      "    \"translator\": \"Antonia Lloyd-Jones\",\n",
      "    \"language\": \"English\",\n",
      "    \"publisher\": \"Text Publishing Company\",\n",
      "    \"publication date\": \"2018\",\n",
      "    \"number of pages\": \"247\",\n",
      "    \"ISBN-13\": \"9781925773088\"\n",
      "  },\n",
      "  \"work\": {\n",
      "    \"author\": \"Olga Tokarczuk\",\n",
      "    \"item\": \"Prowadź swój pług przez kości umarłych\",\n",
      "    \"instance of\": \"written work\"\n",
      "  },\n",
      "  \"first_edition\": {\n",
      "    \"language\": \"Polish\",\n",
      "    \"item\": \"Prowadź swój pług przez kości umarłych\",\n",
      "    \"label\": \"Prowadź swój pług przez kości umarłych\",\n",
      "    \"instance of\": \"version, edition, or translation\",\n",
      "    \"title\": \"Prowadź swój pług przez kości umarłych\",\n",
      "    \"publisher\": \"Wydawnictwo Literackie\",\n",
      "    \"publication date\": \"2009\"\n",
      "  }\n",
      "}\n"
     ]
    }
   ],
   "source": [
    "# add work level data.\n",
    "\n",
    "pydash.set_(statements, 'work.item', 'Prowadź swój pług przez kości umarłych')\n",
    "pydash.set_(statements, 'work.instance of', 'written work')\n",
    "\n",
    "print(json.dumps(statements, indent=2, ensure_ascii=False))"
   ]
  },
  {
   "cell_type": "code",
   "execution_count": 23,
   "metadata": {},
   "outputs": [
    {
     "name": "stdout",
     "output_type": "stream",
     "text": [
      "{\n",
      "  \"this_edition\": {\n",
      "    \"item\": \"Drive Your Plow Over the Bones of the Dead\",\n",
      "    \"label\": \"Drive Your Plow Over the Bones of the Dead\",\n",
      "    \"instance of\": \"version, edition, or translation\",\n",
      "    \"title\": \"Drive Your Plow Over the Bones of the Dead\",\n",
      "    \"translator\": \"Antonia Lloyd-Jones\",\n",
      "    \"language\": \"English\",\n",
      "    \"publisher\": \"Text Publishing Company\",\n",
      "    \"publication date\": \"2018\",\n",
      "    \"number of pages\": \"247\",\n",
      "    \"ISBN-13\": \"9781925773088\",\n",
      "    \"edition or translation of\": \"Prowadź swój pług przez kości umarłych\"\n",
      "  },\n",
      "  \"work\": {\n",
      "    \"author\": \"Olga Tokarczuk\",\n",
      "    \"item\": \"Prowadź swój pług przez kości umarłych\",\n",
      "    \"instance of\": \"written work\"\n",
      "  },\n",
      "  \"first_edition\": {\n",
      "    \"language\": \"Polish\",\n",
      "    \"item\": \"Prowadź swój pług przez kości umarłych\",\n",
      "    \"label\": \"Prowadź swój pług przez kości umarłych\",\n",
      "    \"instance of\": \"version, edition, or translation\",\n",
      "    \"title\": \"Prowadź swój pług przez kości umarłych\",\n",
      "    \"publisher\": \"Wydawnictwo Literackie\",\n",
      "    \"publication date\": \"2009\",\n",
      "    \"edition or translation of\": \"Prowadź swój pług przez kości umarłych\"\n",
      "  }\n",
      "}\n"
     ]
    }
   ],
   "source": [
    "# Link editions back to work.\n",
    "\n",
    "pydash.set_(statements, 'first_edition.edition or translation of', 'Prowadź swój pług przez kości umarłych')\n",
    "pydash.set_(statements, 'this_edition.edition or translation of', 'Prowadź swój pług przez kości umarłych')\n",
    "\n",
    "print(json.dumps(statements, indent=2, ensure_ascii=False))"
   ]
  },
  {
   "cell_type": "code",
   "execution_count": 24,
   "metadata": {},
   "outputs": [
    {
     "name": "stdout",
     "output_type": "stream",
     "text": [
      "{\n",
      "  \"this_edition\": {\n",
      "    \"item\": \"Drive Your Plow Over the Bones of the Dead\",\n",
      "    \"label\": \"Drive Your Plow Over the Bones of the Dead\",\n",
      "    \"instance of\": \"version, edition, or translation\",\n",
      "    \"title\": \"Drive Your Plow Over the Bones of the Dead\",\n",
      "    \"translator\": \"Antonia Lloyd-Jones\",\n",
      "    \"language\": \"English\",\n",
      "    \"publisher\": \"Text Publishing Company\",\n",
      "    \"publication date\": \"2018\",\n",
      "    \"number of pages\": \"247\",\n",
      "    \"ISBN-13\": \"9781925773088\",\n",
      "    \"edition or translation of\": \"Prowadź swój pług przez kości umarłych\",\n",
      "    \"description\": \"2018 English edition of written work by Olga Tokarczuk\"\n",
      "  },\n",
      "  \"work\": {\n",
      "    \"author\": \"Olga Tokarczuk\",\n",
      "    \"item\": \"Prowadź swój pług przez kości umarłych\",\n",
      "    \"instance of\": \"written work\"\n",
      "  },\n",
      "  \"first_edition\": {\n",
      "    \"language\": \"Polish\",\n",
      "    \"item\": \"Prowadź swój pług przez kości umarłych\",\n",
      "    \"label\": \"Prowadź swój pług przez kości umarłych\",\n",
      "    \"instance of\": \"version, edition, or translation\",\n",
      "    \"title\": \"Prowadź swój pług przez kości umarłych\",\n",
      "    \"publisher\": \"Wydawnictwo Literackie\",\n",
      "    \"publication date\": \"2009\",\n",
      "    \"edition or translation of\": \"Prowadź swój pług przez kości umarłych\",\n",
      "    \"description\": \"2009 Polish edition of written work by Olga Tokarczuk\"\n",
      "  }\n",
      "}\n"
     ]
    }
   ],
   "source": [
    "# add (english) descriptions for editions.\n",
    "\n",
    "for x in ['first_edition', 'this_edition']:\n",
    "    desc = pydash.get(statements, f'{x}.publication date')\n",
    "    desc += ' '+pydash.get(statements, f'{x}.language')\n",
    "    desc += ' edition of written work by '\n",
    "    desc += pydash.get(statements, 'work.author')\n",
    "    pydash.set_(statements, f'{x}.description', desc)\n",
    "\n",
    "print(json.dumps(statements, indent=2, ensure_ascii=False))"
   ]
  },
  {
   "cell_type": "code",
   "execution_count": 25,
   "metadata": {},
   "outputs": [
    {
     "name": "stdout",
     "output_type": "stream",
     "text": [
      "1\n"
     ]
    },
    {
     "data": {
      "text/html": [
       "<style  type=\"text/css\" >\n",
       "</style><table id=\"T_b2f6b_\" ><thead>    <tr>        <th class=\"col_heading level0 col0\" >item</th>        <th class=\"col_heading level0 col1\" >label</th>        <th class=\"col_heading level0 col2\" >instance of</th>        <th class=\"col_heading level0 col3\" >title</th>        <th class=\"col_heading level0 col4\" >translator</th>        <th class=\"col_heading level0 col5\" >language</th>        <th class=\"col_heading level0 col6\" >publisher</th>        <th class=\"col_heading level0 col7\" >publication date</th>        <th class=\"col_heading level0 col8\" >number of pages</th>        <th class=\"col_heading level0 col9\" >ISBN-13</th>        <th class=\"col_heading level0 col10\" >edition or translation of</th>        <th class=\"col_heading level0 col11\" >description</th>        <th class=\"col_heading level0 col12\" >author</th>    </tr></thead><tbody>\n",
       "                <tr>\n",
       "                                <td id=\"T_b2f6b_row0_col0\" class=\"data row0 col0\" >Prowadź swój pług przez kości umarłych</td>\n",
       "                        <td id=\"T_b2f6b_row0_col1\" class=\"data row0 col1\" ></td>\n",
       "                        <td id=\"T_b2f6b_row0_col2\" class=\"data row0 col2\" >written work</td>\n",
       "                        <td id=\"T_b2f6b_row0_col3\" class=\"data row0 col3\" ></td>\n",
       "                        <td id=\"T_b2f6b_row0_col4\" class=\"data row0 col4\" ></td>\n",
       "                        <td id=\"T_b2f6b_row0_col5\" class=\"data row0 col5\" ></td>\n",
       "                        <td id=\"T_b2f6b_row0_col6\" class=\"data row0 col6\" ></td>\n",
       "                        <td id=\"T_b2f6b_row0_col7\" class=\"data row0 col7\" ></td>\n",
       "                        <td id=\"T_b2f6b_row0_col8\" class=\"data row0 col8\" ></td>\n",
       "                        <td id=\"T_b2f6b_row0_col9\" class=\"data row0 col9\" ></td>\n",
       "                        <td id=\"T_b2f6b_row0_col10\" class=\"data row0 col10\" ></td>\n",
       "                        <td id=\"T_b2f6b_row0_col11\" class=\"data row0 col11\" ></td>\n",
       "                        <td id=\"T_b2f6b_row0_col12\" class=\"data row0 col12\" >Olga Tokarczuk</td>\n",
       "            </tr>\n",
       "    </tbody></table>"
      ],
      "text/plain": [
       "<pandas.io.formats.style.Styler at 0x21987e43a60>"
      ]
     },
     "execution_count": 25,
     "metadata": {},
     "output_type": "execute_result"
    }
   ],
   "source": [
    "# export data to csv for OpenRefine import.\n",
    "\n",
    "dataframe = pandas.DataFrame(statements).T.reset_index(drop=True)\n",
    "dataframe = dataframe.fillna('')\n",
    "\n",
    "# for testing, limit to work entity.\n",
    "\n",
    "dataframe = dataframe.loc[dataframe['instance of'].isin(['written work'])]\n",
    "dataframe.to_csv(pathlib.Path.cwd() / 'livres.csv', encoding='utf-16', index=False)\n",
    "\n",
    "print(len(dataframe))\n",
    "dataframe.head().style.hide_index()"
   ]
  }
 ],
 "metadata": {
  "interpreter": {
   "hash": "916dbcbb3f70747c44a77c7bcd40155683ae19c65e1c03b4aa3499c5328201f1"
  },
  "kernelspec": {
   "display_name": "Python 3.9.7 64-bit",
   "language": "python",
   "name": "python3"
  },
  "language_info": {
   "codemirror_mode": {
    "name": "ipython",
    "version": 3
   },
   "file_extension": ".py",
   "mimetype": "text/x-python",
   "name": "python",
   "nbconvert_exporter": "python",
   "pygments_lexer": "ipython3",
   "version": "3.8.8"
  },
  "orig_nbformat": 4
 },
 "nbformat": 4,
 "nbformat_minor": 2
}
