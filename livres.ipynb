{
 "cells": [
  {
   "cell_type": "markdown",
   "metadata": {},
   "source": [
    "### 1: Primary Source Data"
   ]
  },
  {
   "cell_type": "code",
   "execution_count": 1,
   "metadata": {},
   "outputs": [],
   "source": [
    "# required libraries.\n",
    "\n",
    "import json\n",
    "import pydash\n",
    "\n",
    "# provide a dictionary for data statements.\n",
    "\n",
    "statements = dict()"
   ]
  },
  {
   "cell_type": "markdown",
   "metadata": {},
   "source": [
    "> Drive Your Plow Over the Bones of the Dead\n",
    "\n",
    "Note that the title is printed in all-caps on the cover and title page.\n",
    "This is assumed to be a design choice, as it is presented in title-caps on the back cover."
   ]
  },
  {
   "cell_type": "code",
   "execution_count": 2,
   "metadata": {},
   "outputs": [
    {
     "name": "stdout",
     "output_type": "stream",
     "text": [
      "{\n",
      "    \"this_edition\": {\n",
      "        \"title\": \"Drive Your Plow Over the Bones of the Dead\"\n",
      "    }\n",
      "}\n"
     ]
    }
   ],
   "source": [
    "pydash.set_(statements, 'this_edition.title', 'Drive Your Plow Over the Bones of the Dead')\n",
    "\n",
    "print(json.dumps(statements, indent=4))"
   ]
  },
  {
   "cell_type": "markdown",
   "metadata": {},
   "source": [
    "> Olga Tokarczuk\n",
    "\n",
    "Similarly author is also printed in several places in all-caps."
   ]
  },
  {
   "cell_type": "code",
   "execution_count": 3,
   "metadata": {},
   "outputs": [
    {
     "name": "stdout",
     "output_type": "stream",
     "text": [
      "{\n",
      "    \"this_edition\": {\n",
      "        \"title\": \"Drive Your Plow Over the Bones of the Dead\",\n",
      "        \"author\": \"Olga Tokarczuk\"\n",
      "    }\n",
      "}\n"
     ]
    }
   ],
   "source": [
    "pydash.set_(statements, 'this_edition.author', 'Olga Tokarczuk')\n",
    "\n",
    "print(json.dumps(statements, indent=4))"
   ]
  },
  {
   "cell_type": "markdown",
   "metadata": {},
   "source": [
    "> Translated from the Polish by Antonia Lloyd-Jones\n",
    "\n",
    "Can be inferred that the original edition was in Polish?"
   ]
  },
  {
   "cell_type": "code",
   "execution_count": 4,
   "metadata": {},
   "outputs": [
    {
     "name": "stdout",
     "output_type": "stream",
     "text": [
      "{\n",
      "    \"this_edition\": {\n",
      "        \"title\": \"Drive Your Plow Over the Bones of the Dead\",\n",
      "        \"author\": \"Olga Tokarczuk\",\n",
      "        \"translator\": \"Antonia Lloyd-Jones\"\n",
      "    },\n",
      "    \"first_edition\": {\n",
      "        \"language\": \"Polish\"\n",
      "    }\n",
      "}\n"
     ]
    }
   ],
   "source": [
    "pydash.set_(statements, 'this_edition.translator', 'Antonia Lloyd-Jones')\n",
    "pydash.set_(statements, 'first_edition.language', 'Polish')\n",
    "\n",
    "print(json.dumps(statements, indent=4))"
   ]
  },
  {
   "cell_type": "markdown",
   "metadata": {},
   "source": [
    "> Book design by Jessica Horrocks\n",
    "\n",
    "Also credited with cover design, not sure if these terms can be assumed to be interchangable."
   ]
  },
  {
   "cell_type": "code",
   "execution_count": 5,
   "metadata": {},
   "outputs": [
    {
     "name": "stdout",
     "output_type": "stream",
     "text": [
      "{\n",
      "    \"this_edition\": {\n",
      "        \"title\": \"Drive Your Plow Over the Bones of the Dead\",\n",
      "        \"author\": \"Olga Tokarczuk\",\n",
      "        \"translator\": \"Antonia Lloyd-Jones\",\n",
      "        \"book_design\": \"Jessica Horrocks\"\n",
      "    },\n",
      "    \"first_edition\": {\n",
      "        \"language\": \"Polish\"\n",
      "    }\n",
      "}\n"
     ]
    }
   ],
   "source": [
    "pydash.set_(statements, 'this_edition.book_design', 'Jessica Horrocks')\n",
    "\n",
    "print(json.dumps(statements, indent=4))"
   ]
  },
  {
   "cell_type": "markdown",
   "metadata": {},
   "source": [
    "This edition is in English."
   ]
  },
  {
   "cell_type": "code",
   "execution_count": 6,
   "metadata": {},
   "outputs": [
    {
     "name": "stdout",
     "output_type": "stream",
     "text": [
      "{\n",
      "    \"this_edition\": {\n",
      "        \"title\": \"Drive Your Plow Over the Bones of the Dead\",\n",
      "        \"author\": \"Olga Tokarczuk\",\n",
      "        \"translator\": \"Antonia Lloyd-Jones\",\n",
      "        \"book_design\": \"Jessica Horrocks\",\n",
      "        \"language\": \"English\"\n",
      "    },\n",
      "    \"first_edition\": {\n",
      "        \"language\": \"Polish\"\n",
      "    }\n",
      "}\n"
     ]
    }
   ],
   "source": [
    "pydash.set_(statements, 'this_edition.language', 'English')\n",
    "\n",
    "print(json.dumps(statements, indent=4))"
   ]
  },
  {
   "cell_type": "markdown",
   "metadata": {},
   "source": [
    "The last numbered page is 247."
   ]
  },
  {
   "cell_type": "code",
   "execution_count": 7,
   "metadata": {},
   "outputs": [
    {
     "name": "stdout",
     "output_type": "stream",
     "text": [
      "{\n",
      "    \"this_edition\": {\n",
      "        \"title\": \"Drive Your Plow Over the Bones of the Dead\",\n",
      "        \"author\": \"Olga Tokarczuk\",\n",
      "        \"translator\": \"Antonia Lloyd-Jones\",\n",
      "        \"book_design\": \"Jessica Horrocks\",\n",
      "        \"language\": \"English\",\n",
      "        \"pages\": \"247\"\n",
      "    },\n",
      "    \"first_edition\": {\n",
      "        \"language\": \"Polish\"\n",
      "    }\n",
      "}\n"
     ]
    }
   ],
   "source": [
    "pydash.set_(statements, 'this_edition.pages', '247')\n",
    "\n",
    "print(json.dumps(statements, indent=4))"
   ]
  },
  {
   "cell_type": "markdown",
   "metadata": {},
   "source": [
    "ISBN-13 for this edition is 9781925773088."
   ]
  },
  {
   "cell_type": "code",
   "execution_count": 8,
   "metadata": {},
   "outputs": [
    {
     "name": "stdout",
     "output_type": "stream",
     "text": [
      "{\n",
      "    \"this_edition\": {\n",
      "        \"title\": \"Drive Your Plow Over the Bones of the Dead\",\n",
      "        \"author\": \"Olga Tokarczuk\",\n",
      "        \"translator\": \"Antonia Lloyd-Jones\",\n",
      "        \"book_design\": \"Jessica Horrocks\",\n",
      "        \"language\": \"English\",\n",
      "        \"pages\": \"247\",\n",
      "        \"isbn\": \"9781925773088\"\n",
      "    },\n",
      "    \"first_edition\": {\n",
      "        \"language\": \"Polish\"\n",
      "    }\n",
      "}\n"
     ]
    }
   ],
   "source": [
    "pydash.set_(statements, 'this_edition.isbn', '9781925773088')\n",
    "\n",
    "print(json.dumps(statements, indent=4))"
   ]
  },
  {
   "cell_type": "markdown",
   "metadata": {},
   "source": [
    "> First published as Prowadź swój pług przez kości umarłych by Wydawnictwo Literackie in 2009"
   ]
  },
  {
   "cell_type": "code",
   "execution_count": 9,
   "metadata": {},
   "outputs": [
    {
     "name": "stdout",
     "output_type": "stream",
     "text": [
      "{\n",
      "    \"this_edition\": {\n",
      "        \"title\": \"Drive Your Plow Over the Bones of the Dead\",\n",
      "        \"author\": \"Olga Tokarczuk\",\n",
      "        \"translator\": \"Antonia Lloyd-Jones\",\n",
      "        \"book_design\": \"Jessica Horrocks\",\n",
      "        \"language\": \"English\",\n",
      "        \"pages\": \"247\",\n",
      "        \"isbn\": \"9781925773088\"\n",
      "    },\n",
      "    \"first_edition\": {\n",
      "        \"language\": \"Polish\",\n",
      "        \"title\": \"Prowadź swój pług przez kości umarłych\",\n",
      "        \"publisher\": \"Wydawnictwo Literackie\",\n",
      "        \"date\": \"2009\"\n",
      "    }\n",
      "}\n"
     ]
    }
   ],
   "source": [
    "pydash.set_(statements, 'first_edition.title', 'Prowadź swój pług przez kości umarłych')\n",
    "pydash.set_(statements, 'first_edition.publisher', 'Wydawnictwo Literackie')\n",
    "pydash.set_(statements, 'first_edition.date', '2009')\n",
    "\n",
    "print(json.dumps(statements, indent=4, ensure_ascii=False))"
   ]
  },
  {
   "cell_type": "markdown",
   "metadata": {},
   "source": [
    "> This edition published by the Text Publishing Company in 2018"
   ]
  },
  {
   "cell_type": "code",
   "execution_count": 10,
   "metadata": {},
   "outputs": [
    {
     "name": "stdout",
     "output_type": "stream",
     "text": [
      "{\n",
      "    \"this_edition\": {\n",
      "        \"title\": \"Drive Your Plow Over the Bones of the Dead\",\n",
      "        \"author\": \"Olga Tokarczuk\",\n",
      "        \"translator\": \"Antonia Lloyd-Jones\",\n",
      "        \"book_design\": \"Jessica Horrocks\",\n",
      "        \"language\": \"English\",\n",
      "        \"pages\": \"247\",\n",
      "        \"isbn\": \"9781925773088\",\n",
      "        \"publisher\": \"Text Publishing Company\",\n",
      "        \"date\": \"2018\"\n",
      "    },\n",
      "    \"first_edition\": {\n",
      "        \"language\": \"Polish\",\n",
      "        \"title\": \"Prowadź swój pług przez kości umarłych\",\n",
      "        \"publisher\": \"Wydawnictwo Literackie\",\n",
      "        \"date\": \"2009\"\n",
      "    }\n",
      "}\n"
     ]
    }
   ],
   "source": [
    "pydash.set_(statements, 'this_edition.publisher', 'Text Publishing Company')\n",
    "pydash.set_(statements, 'this_edition.date', '2018')\n",
    "\n",
    "print(json.dumps(statements, indent=4, ensure_ascii=False))"
   ]
  },
  {
   "cell_type": "markdown",
   "metadata": {},
   "source": [
    "Infer work level data."
   ]
  },
  {
   "cell_type": "code",
   "execution_count": 11,
   "metadata": {},
   "outputs": [
    {
     "name": "stdout",
     "output_type": "stream",
     "text": [
      "{\n",
      "    \"this_edition\": {\n",
      "        \"title\": \"Drive Your Plow Over the Bones of the Dead\",\n",
      "        \"author\": \"Olga Tokarczuk\",\n",
      "        \"translator\": \"Antonia Lloyd-Jones\",\n",
      "        \"book_design\": \"Jessica Horrocks\",\n",
      "        \"language\": \"English\",\n",
      "        \"pages\": \"247\",\n",
      "        \"isbn\": \"9781925773088\",\n",
      "        \"publisher\": \"Text Publishing Company\",\n",
      "        \"date\": \"2018\"\n",
      "    },\n",
      "    \"first_edition\": {\n",
      "        \"language\": \"Polish\",\n",
      "        \"title\": \"Prowadź swój pług przez kości umarłych\",\n",
      "        \"publisher\": \"Wydawnictwo Literackie\",\n",
      "        \"date\": \"2009\"\n",
      "    },\n",
      "    \"work\": {\n",
      "        \"label_en\": \"Drive Your Plow Over the Bones of the Dead\",\n",
      "        \"label_pl\": \"Prowadź swój pług przez kości umarłych\",\n",
      "        \"author\": \"Olga Tokarczuk\"\n",
      "    }\n",
      "}\n"
     ]
    }
   ],
   "source": [
    "pydash.set_(statements, 'work.label_en', pydash.get(statements, 'this_edition.title'))\n",
    "pydash.set_(statements, 'work.label_pl', pydash.get(statements, 'first_edition.title'))\n",
    "pydash.set_(statements, 'work.author', pydash.get(statements, 'this_edition.author'))\n",
    "\n",
    "print(json.dumps(statements, indent=4, ensure_ascii=False))"
   ]
  }
 ],
 "metadata": {
  "interpreter": {
   "hash": "916dbcbb3f70747c44a77c7bcd40155683ae19c65e1c03b4aa3499c5328201f1"
  },
  "kernelspec": {
   "display_name": "Python 3.9.7 64-bit",
   "language": "python",
   "name": "python3"
  },
  "language_info": {
   "codemirror_mode": {
    "name": "ipython",
    "version": 3
   },
   "file_extension": ".py",
   "mimetype": "text/x-python",
   "name": "python",
   "nbconvert_exporter": "python",
   "pygments_lexer": "ipython3",
   "version": "3.9.7"
  },
  "orig_nbformat": 4
 },
 "nbformat": 4,
 "nbformat_minor": 2
}
